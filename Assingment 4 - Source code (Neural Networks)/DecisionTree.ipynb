{
 "cells": [
  {
   "cell_type": "markdown",
   "id": "e414df55",
   "metadata": {},
   "source": [
    "## DECISION TREES"
   ]
  },
  {
   "cell_type": "code",
   "execution_count": 1,
   "id": "dd98ec80",
   "metadata": {},
   "outputs": [],
   "source": [
    "import numpy as np\n",
    "import pandas as pd\n",
    "df_voting=pd.read_csv(\"/Users/noshitha/Downloads/house_votes_84.csv\")"
   ]
  },
  {
   "cell_type": "code",
   "execution_count": 2,
   "id": "5bb7b432",
   "metadata": {},
   "outputs": [
    {
     "data": {
      "text/html": [
       "<div>\n",
       "<style scoped>\n",
       "    .dataframe tbody tr th:only-of-type {\n",
       "        vertical-align: middle;\n",
       "    }\n",
       "\n",
       "    .dataframe tbody tr th {\n",
       "        vertical-align: top;\n",
       "    }\n",
       "\n",
       "    .dataframe thead th {\n",
       "        text-align: right;\n",
       "    }\n",
       "</style>\n",
       "<table border=\"1\" class=\"dataframe\">\n",
       "  <thead>\n",
       "    <tr style=\"text-align: right;\">\n",
       "      <th></th>\n",
       "      <th>handicapped-infants</th>\n",
       "      <th>water-project-cost-sharing</th>\n",
       "      <th>adoption-of-the-budget-resolution</th>\n",
       "      <th>physician-fee-freeze</th>\n",
       "      <th>el-salvador-adi</th>\n",
       "      <th>religious-groups-in-schools</th>\n",
       "      <th>anti-satellite-test-ban</th>\n",
       "      <th>aid-to-nicaraguan-contras</th>\n",
       "      <th>mx-missile</th>\n",
       "      <th>immigration</th>\n",
       "      <th>synfuels-corporation-cutback</th>\n",
       "      <th>education-spending</th>\n",
       "      <th>superfund-right-to-sue</th>\n",
       "      <th>crime</th>\n",
       "      <th>duty-free-exports</th>\n",
       "      <th>export-administration-act-south-africa</th>\n",
       "      <th>target</th>\n",
       "    </tr>\n",
       "  </thead>\n",
       "  <tbody>\n",
       "    <tr>\n",
       "      <th>0</th>\n",
       "      <td>1</td>\n",
       "      <td>2</td>\n",
       "      <td>1</td>\n",
       "      <td>2</td>\n",
       "      <td>2</td>\n",
       "      <td>2</td>\n",
       "      <td>1</td>\n",
       "      <td>1</td>\n",
       "      <td>1</td>\n",
       "      <td>2</td>\n",
       "      <td>0</td>\n",
       "      <td>2</td>\n",
       "      <td>2</td>\n",
       "      <td>2</td>\n",
       "      <td>1</td>\n",
       "      <td>2</td>\n",
       "      <td>1</td>\n",
       "    </tr>\n",
       "    <tr>\n",
       "      <th>1</th>\n",
       "      <td>1</td>\n",
       "      <td>2</td>\n",
       "      <td>1</td>\n",
       "      <td>2</td>\n",
       "      <td>2</td>\n",
       "      <td>2</td>\n",
       "      <td>1</td>\n",
       "      <td>1</td>\n",
       "      <td>1</td>\n",
       "      <td>1</td>\n",
       "      <td>1</td>\n",
       "      <td>2</td>\n",
       "      <td>2</td>\n",
       "      <td>2</td>\n",
       "      <td>1</td>\n",
       "      <td>0</td>\n",
       "      <td>1</td>\n",
       "    </tr>\n",
       "    <tr>\n",
       "      <th>2</th>\n",
       "      <td>0</td>\n",
       "      <td>2</td>\n",
       "      <td>2</td>\n",
       "      <td>0</td>\n",
       "      <td>2</td>\n",
       "      <td>2</td>\n",
       "      <td>1</td>\n",
       "      <td>1</td>\n",
       "      <td>1</td>\n",
       "      <td>1</td>\n",
       "      <td>2</td>\n",
       "      <td>1</td>\n",
       "      <td>2</td>\n",
       "      <td>2</td>\n",
       "      <td>1</td>\n",
       "      <td>1</td>\n",
       "      <td>0</td>\n",
       "    </tr>\n",
       "    <tr>\n",
       "      <th>3</th>\n",
       "      <td>1</td>\n",
       "      <td>2</td>\n",
       "      <td>2</td>\n",
       "      <td>1</td>\n",
       "      <td>0</td>\n",
       "      <td>2</td>\n",
       "      <td>1</td>\n",
       "      <td>1</td>\n",
       "      <td>1</td>\n",
       "      <td>1</td>\n",
       "      <td>2</td>\n",
       "      <td>1</td>\n",
       "      <td>2</td>\n",
       "      <td>1</td>\n",
       "      <td>1</td>\n",
       "      <td>2</td>\n",
       "      <td>0</td>\n",
       "    </tr>\n",
       "    <tr>\n",
       "      <th>4</th>\n",
       "      <td>2</td>\n",
       "      <td>2</td>\n",
       "      <td>2</td>\n",
       "      <td>1</td>\n",
       "      <td>2</td>\n",
       "      <td>2</td>\n",
       "      <td>1</td>\n",
       "      <td>1</td>\n",
       "      <td>1</td>\n",
       "      <td>1</td>\n",
       "      <td>2</td>\n",
       "      <td>0</td>\n",
       "      <td>2</td>\n",
       "      <td>2</td>\n",
       "      <td>2</td>\n",
       "      <td>2</td>\n",
       "      <td>0</td>\n",
       "    </tr>\n",
       "  </tbody>\n",
       "</table>\n",
       "</div>"
      ],
      "text/plain": [
       "   handicapped-infants  water-project-cost-sharing  \\\n",
       "0                    1                           2   \n",
       "1                    1                           2   \n",
       "2                    0                           2   \n",
       "3                    1                           2   \n",
       "4                    2                           2   \n",
       "\n",
       "   adoption-of-the-budget-resolution  physician-fee-freeze  el-salvador-adi  \\\n",
       "0                                  1                     2                2   \n",
       "1                                  1                     2                2   \n",
       "2                                  2                     0                2   \n",
       "3                                  2                     1                0   \n",
       "4                                  2                     1                2   \n",
       "\n",
       "   religious-groups-in-schools  anti-satellite-test-ban  \\\n",
       "0                            2                        1   \n",
       "1                            2                        1   \n",
       "2                            2                        1   \n",
       "3                            2                        1   \n",
       "4                            2                        1   \n",
       "\n",
       "   aid-to-nicaraguan-contras  mx-missile  immigration  \\\n",
       "0                          1           1            2   \n",
       "1                          1           1            1   \n",
       "2                          1           1            1   \n",
       "3                          1           1            1   \n",
       "4                          1           1            1   \n",
       "\n",
       "   synfuels-corporation-cutback  education-spending  superfund-right-to-sue  \\\n",
       "0                             0                   2                       2   \n",
       "1                             1                   2                       2   \n",
       "2                             2                   1                       2   \n",
       "3                             2                   1                       2   \n",
       "4                             2                   0                       2   \n",
       "\n",
       "   crime  duty-free-exports  export-administration-act-south-africa  target  \n",
       "0      2                  1                                       2       1  \n",
       "1      2                  1                                       0       1  \n",
       "2      2                  1                                       1       0  \n",
       "3      1                  1                                       2       0  \n",
       "4      2                  2                                       2       0  "
      ]
     },
     "execution_count": 2,
     "metadata": {},
     "output_type": "execute_result"
    }
   ],
   "source": [
    "df_voting.head()"
   ]
  },
  {
   "cell_type": "code",
   "execution_count": 3,
   "id": "0ffa8797",
   "metadata": {},
   "outputs": [],
   "source": [
    "from sklearn.utils import shuffle\n",
    "df_voting_shuffle = shuffle(df_voting)"
   ]
  },
  {
   "cell_type": "code",
   "execution_count": 4,
   "id": "a9de7332",
   "metadata": {},
   "outputs": [
    {
     "name": "stdout",
     "output_type": "stream",
     "text": [
      "\n",
      "Training Set Shape: (348, 17)\n",
      "Testing Set Shape: (87, 17)\n"
     ]
    }
   ],
   "source": [
    "from sklearn.model_selection import train_test_split\n",
    "train_df, test_df = train_test_split(df_voting_shuffle, test_size=0.2, random_state=34)\n",
    "\n",
    "# Shapes of the training and testing sets\n",
    "print(\"\\nTraining Set Shape:\", train_df.shape)\n",
    "print(\"Testing Set Shape:\", test_df.shape)"
   ]
  },
  {
   "cell_type": "markdown",
   "id": "9080a2d2",
   "metadata": {},
   "source": [
    "## Algorithm"
   ]
  },
  {
   "cell_type": "code",
   "execution_count": 5,
   "id": "680bbc50",
   "metadata": {},
   "outputs": [
    {
     "name": "stdout",
     "output_type": "stream",
     "text": [
      "2\n",
      "{0, 1}\n",
      "{'not_same_class': True}\n"
     ]
    }
   ],
   "source": [
    "import pandas as pd\n",
    "\n",
    "def check_same_class(y_train):\n",
    "    # If all instances belong to the same class\n",
    "    if len(set(y_train['target'])) == 1:\n",
    "        return {\"class_label\": y_train['target'].iloc[0]}\n",
    "    else:\n",
    "        return {\"not_same_class\": True}\n",
    "\n",
    "# Example usage\n",
    "y_train = pd.DataFrame({'target': [0, 0, 0, 0, 1, 1, 1, 1]})\n",
    "check=len(set(y_train['target']))\n",
    "print(check)\n",
    "print(set(y_train['target']))\n",
    "result = check_same_class(y_train)\n",
    "print(result)\n"
   ]
  },
  {
   "cell_type": "markdown",
   "id": "fa9ddab4",
   "metadata": {},
   "source": [
    "## Decision Tree using info-gain"
   ]
  },
  {
   "cell_type": "code",
   "execution_count": 41,
   "id": "8753c2d9",
   "metadata": {},
   "outputs": [],
   "source": [
    "def decision_tree(X_train, y_train, remaining_attributes):\n",
    "    # If all instances belong to the same class\n",
    "    if len(set(y_train)) == 1:\n",
    "        return {\"class_label\": y_train.iloc[0]}\n",
    "    if not remaining_attributes:\n",
    "        # If no more attributes left\n",
    "        class_counts = y_train.value_counts()\n",
    "        majority_class = class_counts.idxmax()\n",
    "        return {\"class_label\": majority_class}\n",
    "    \n",
    "    \n",
    "    \n",
    "    info_gain_values = [information_gain(y_train, X_train[attr]) for attr in remaining_attributes]\n",
    "    best_attribute = remaining_attributes[np.argmax(info_gain_values)] # Highest info gain attribute\n",
    "    remaining_attributes_copy = remaining_attributes.copy()  # Make a copy\n",
    "    remaining_attributes_copy.remove(best_attribute) # L(attr)-Selected(attr)\n",
    "    remaining_attributes = remaining_attributes_copy.copy()  # Update remaining_attributes\n",
    "\n",
    "    #remaining_attributes = remaining_attributes_copy  # Update remaining_attributes\n",
    "\n",
    "    \n",
    "    \n",
    "    # Create a dictionary for the current decision node\n",
    "    node = {\"attribute\": best_attribute, \"leaf\": {}}\n",
    "    # Create a list of values for the selected attribute\n",
    "    attribute_values = set(X_train[best_attribute])\n",
    "\n",
    "    # For each attribute value, create sub-trees and edges\n",
    "    for value in attribute_values:\n",
    "        # Partition - based on the attribute value\n",
    "        partition = X_train[X_train[best_attribute] == value]\n",
    "\n",
    "        if partition.empty:\n",
    "            # If partition is empty, leaf node = node with majority class\n",
    "            majority_class = y_train.value_counts().idxmax()\n",
    "            node[\"leaf\"][value] = {\"class_label\": majority_class}\n",
    "        else:\n",
    "            # Recursively create a sub-tree\n",
    "            subtree = decision_tree(partition, y_train[partition.index], remaining_attributes)\n",
    "            node[\"leaf\"][value] = subtree\n",
    "    return node\n",
    "\n",
    "def entropy(labels):\n",
    "    unique_labels, counts = np.unique(labels, return_counts=True)\n",
    "    probabilities = counts / len(labels)\n",
    "    entropy_value = -np.sum(probabilities * np.log2(probabilities))\n",
    "    return entropy_value\n",
    "\n",
    "def information_gain(y, x):\n",
    "    parent_entropy = entropy(y)\n",
    "    # InfoA(D)\n",
    "    info_a = 0\n",
    "    for value in set(x):\n",
    "        partition_indices = x[x == value].index\n",
    "        partition_entropy = entropy(y[partition_indices])\n",
    "        info_a += len(partition_indices) / len(x) * partition_entropy\n",
    "    # GainA(D)\n",
    "    gain_a = parent_entropy - info_a\n",
    "    return gain_a"
   ]
  },
  {
   "cell_type": "code",
   "execution_count": 42,
   "id": "97c828c9",
   "metadata": {},
   "outputs": [],
   "source": [
    "def predict_single(x, tree):\n",
    "    if 'class_label' in tree:\n",
    "        # Single data point\n",
    "        return tree['class_label']\n",
    "    else:\n",
    "        value = x[tree['attribute']]\n",
    "        if value in tree['leaf']:\n",
    "            # leaf has only class label or a nested dictionary\n",
    "            next_node = tree['leaf'][value]\n",
    "            if 'class_label' in next_node:\n",
    "                return next_node['class_label']\n",
    "            else:\n",
    "                return predict_single(x, next_node)\n",
    "        else:\n",
    "            return list(tree['leaf'].values())[0]\n",
    "\n",
    "\n",
    "def predict(X, tree):\n",
    "    return [predict_single(x, tree) for i, x in X.iterrows()]\n"
   ]
  },
  {
   "cell_type": "code",
   "execution_count": 43,
   "id": "0b04a49c",
   "metadata": {},
   "outputs": [],
   "source": [
    "attributes = df_voting_shuffle.columns[:-1].tolist()\n",
    "target = df_voting_shuffle['target']\n",
    "train_df, test_df = train_test_split(df_voting_shuffle, test_size=0.2, random_state=34)"
   ]
  },
  {
   "cell_type": "code",
   "execution_count": 44,
   "id": "3f432e5c",
   "metadata": {},
   "outputs": [],
   "source": [
    " # Split the DataFrame into features and target for training and testing sets\n",
    "X_train, y_train = train_df[attributes], train_df['target']\n",
    "X_test, y_test = test_df[attributes], test_df['target']"
   ]
  },
  {
   "cell_type": "code",
   "execution_count": 45,
   "id": "e66d61e4",
   "metadata": {},
   "outputs": [],
   "source": [
    "# Build the decision tree using the training set\n",
    "root_node = decision_tree(X_train, y_train, attributes)"
   ]
  },
  {
   "cell_type": "code",
   "execution_count": 11,
   "id": "8adefcfe",
   "metadata": {},
   "outputs": [
    {
     "name": "stdout",
     "output_type": "stream",
     "text": [
      "Accuracy on Training Set: 1.0\n",
      "Accuracy on Test Set: 0.9310344827586207\n"
     ]
    }
   ],
   "source": [
    "# Function to calculate accuracy\n",
    "def calculate_accuracy(predictions, actual):\n",
    "    return np.sum(predictions == actual) / len(actual)\n",
    "\n",
    "# Build the decision tree using the training set\n",
    "root_node = decision_tree(X_train, y_train, attributes)\n",
    "\n",
    "# Make predictions on the training set\n",
    "predictions_train = predict(X_train, root_node)\n",
    "\n",
    "# Make predictions on the test set\n",
    "predictions_test = predict(X_test, root_node)\n",
    "\n",
    "# Evaluate the accuracy on the training set\n",
    "accuracy_train = calculate_accuracy(predictions_train, y_train)\n",
    "print(\"Accuracy on Training Set:\", accuracy_train)\n",
    "\n",
    "# Evaluate the accuracy on the test set\n",
    "accuracy_test = calculate_accuracy(predictions_test, y_test)\n",
    "print(\"Accuracy on Test Set:\", accuracy_test)\n"
   ]
  },
  {
   "cell_type": "code",
   "execution_count": 46,
   "id": "8822291a",
   "metadata": {},
   "outputs": [],
   "source": [
    "import numpy as np\n",
    "import matplotlib.pyplot as plt\n",
    "from sklearn.utils import shuffle\n",
    "\n",
    "# Function to calculate accuracy\n",
    "def calculate_accuracy(predictions, actual):\n",
    "    return np.sum(predictions == actual) / len(actual)\n",
    "\n",
    "# Function to train and evaluate Decision Tree 100 times\n",
    "def run_decision_tree(df, attributes, target, num_iterations=100):\n",
    "    accuracy_train_list = []\n",
    "    accuracy_test_list = []\n",
    "\n",
    "    for i in range(num_iterations):\n",
    "        # Shuffle the dataset\n",
    "        df_shuffled = shuffle(df)\n",
    "\n",
    "        # Split the DataFrame into features and target for training and testing sets\n",
    "        train_df, test_df = train_test_split(df_shuffled, test_size=0.2, random_state=np.random.randint(1, 1000))\n",
    "\n",
    "        X_train, y_train = train_df[attributes], train_df[target]\n",
    "        X_test, y_test = test_df[attributes], test_df[target]\n",
    "\n",
    "        # Build the decision tree using the training set\n",
    "        root_node = decision_tree(X_train, y_train, attributes)\n",
    "\n",
    "        # Make predictions on the training set\n",
    "        predictions_train = predict(X_train, root_node)\n",
    "        accuracy_train = calculate_accuracy(predictions_train, y_train)\n",
    "        accuracy_train_list.append(accuracy_train)\n",
    "\n",
    "        # Make predictions on the test set\n",
    "        predictions_test = predict(X_test, root_node)\n",
    "        accuracy_test = calculate_accuracy(predictions_test, y_test)\n",
    "        accuracy_test_list.append(accuracy_test)\n",
    "\n",
    "    return accuracy_train_list, accuracy_test_list\n"
   ]
  },
  {
   "cell_type": "code",
   "execution_count": 47,
   "id": "ea0ad26e",
   "metadata": {},
   "outputs": [],
   "source": [
    "# Run the experiment\n",
    "attributes = df_voting_shuffle.columns[:-1].tolist()\n",
    "target = 'target'\n",
    "df_voting_shuffle = shuffle(df_voting_shuffle, random_state=np.random.randint(1, 1000))  # Shuffle once initially\n",
    "\n",
    "accuracy_train, accuracy_test = run_decision_tree(df_voting_shuffle, attributes, target)\n"
   ]
  },
  {
   "cell_type": "code",
   "execution_count": 49,
   "id": "9a7307a6",
   "metadata": {},
   "outputs": [
    {
     "name": "stdout",
     "output_type": "stream",
     "text": [
      "Mean Training Accuracy: 1.0\n",
      "Mean Testing Accuracy: 0.9313793103448276\n"
     ]
    }
   ],
   "source": [
    "mean_accuracy_train = np.mean(accuracy_train)\n",
    "mean_accuracy_test = np.mean(accuracy_test)\n",
    "\n",
    "# Print or use the values as needed\n",
    "print(\"Mean Training Accuracy:\", mean_accuracy_train)\n",
    "print(\"Mean Testing Accuracy:\", mean_accuracy_test)"
   ]
  },
  {
   "cell_type": "code",
   "execution_count": 50,
   "id": "5691c4eb",
   "metadata": {},
   "outputs": [
    {
     "name": "stdout",
     "output_type": "stream",
     "text": [
      "Standard Deviation Training Accuracy: 0.0\n",
      "Standard Deviation Testing Accuracy: 0.023129167362391723\n"
     ]
    }
   ],
   "source": [
    "\n",
    "std_dev_accuracy_train = np.std(accuracy_train)\n",
    "std_dev_accuracy_test = np.std(accuracy_test)\n",
    "\n",
    "print(\"Standard Deviation Training Accuracy:\", std_dev_accuracy_train)\n",
    "print(\"Standard Deviation Testing Accuracy:\", std_dev_accuracy_test)"
   ]
  },
  {
   "cell_type": "code",
   "execution_count": 14,
   "id": "61e846c5",
   "metadata": {},
   "outputs": [
    {
     "data": {
      "image/png": "[encoded data removed]",
      "text/plain": [
       "<Figure size 864x432 with 1 Axes>"
      ]
     },
     "metadata": {
      "needs_background": "light"
     },
     "output_type": "display_data"
    }
   ],
   "source": [
    "\n",
    "# Plot histograms\n",
    "plt.figure(figsize=(12, 6))\n",
    "\n",
    "plt.subplot(1, 2, 1)\n",
    "plt.hist(accuracy_train, bins=20, edgecolor='black')\n",
    "plt.title('Accuracy Distribution on Training Set on info gain')\n",
    "plt.xlabel('Accuracy')\n",
    "plt.ylabel('Frequency')\n",
    "\n",
    "\n",
    "plt.tight_layout()\n",
    "plt.show()\n"
   ]
  },
  {
   "cell_type": "code",
   "execution_count": 15,
   "id": "acc0da0d",
   "metadata": {},
   "outputs": [
    {
     "data": {
      "image/png": "[encoded data removed]",
      "text/plain": [
       "<Figure size 864x432 with 1 Axes>"
      ]
     },
     "metadata": {
      "needs_background": "light"
     },
     "output_type": "display_data"
    }
   ],
   "source": [
    "plt.figure(figsize=(12, 6))\n",
    "\n",
    "plt.subplot(1, 2, 2)\n",
    "plt.hist(accuracy_test, bins=20, edgecolor='black')\n",
    "plt.title('Accuracy Distribution on Testing Set on info gain')\n",
    "plt.xlabel('Accuracy')\n",
    "plt.ylabel('Frequency')\n",
    "\n",
    "plt.tight_layout()\n",
    "plt.show()"
   ]
  },
  {
   "cell_type": "markdown",
   "id": "ca31187b",
   "metadata": {},
   "source": [
    "## Decision Trees using Gini impurity"
   ]
  },
  {
   "cell_type": "code",
   "execution_count": 51,
   "id": "e403a4fa",
   "metadata": {},
   "outputs": [],
   "source": [
    "def decision_tree(X_train, y_train, remaining_attributes):\n",
    "    # If all instances belong to the same class\n",
    "    if len(set(y_train)) == 1:\n",
    "        return {\"class_label\": y_train.iloc[0]}\n",
    "    if not remaining_attributes:\n",
    "        # If no more attributes left\n",
    "        class_counts = y_train.value_counts()\n",
    "        majority_class = class_counts.idxmax()\n",
    "        return {\"class_label\": majority_class}\n",
    "\n",
    "    info_gain_values = [information_gain(y_train, X_train[attr]) for attr in remaining_attributes]\n",
    "    best_attribute = remaining_attributes[np.argmax(info_gain_values)]  # Highest info gain attribute\n",
    "    remaining_attributes_copy = remaining_attributes.copy()  # Make a copy\n",
    "    remaining_attributes_copy.remove(best_attribute) # L(attr)-Selected(attr)\n",
    "    remaining_attributes = remaining_attributes_copy.copy()  # Update remaining_attributes\n",
    "    \n",
    "    # Create a dictionary for the current decision node\n",
    "    node = {\"attribute\": best_attribute, \"leaf\": {}}\n",
    "    # Create a list of values for the selected attribute\n",
    "    attribute_values = set(X_train[best_attribute])\n",
    "\n",
    "    # For each attribute value, create sub-trees and edges\n",
    "    for value in attribute_values:\n",
    "        # Partition - based on the attribute value\n",
    "        partition = X_train[X_train[best_attribute] == value]\n",
    "\n",
    "        if partition.empty:\n",
    "            # If partition is empty, leaf node = node with majority class\n",
    "            majority_class = y_train.value_counts().idxmax()\n",
    "            node[\"leaf\"][value] = {\"class_label\": majority_class}\n",
    "        else:\n",
    "            # Recursively create a sub-tree\n",
    "            subtree = decision_tree(partition, y_train[partition.index], remaining_attributes)\n",
    "            node[\"leaf\"][value] = subtree\n",
    "    return node\n",
    "\n",
    "def calculate_gini_index(labels):\n",
    "    unique_labels, counts = np.unique(labels, return_counts=True)\n",
    "    probabilities = counts / len(labels)\n",
    "    gini_index_value = 1 - np.square(probabilities).sum()\n",
    "    return gini_index_value\n",
    "\n",
    "def gini_attribute(y_train, attribute_values):\n",
    "    gini = 0.0\n",
    "    for value in attribute_values:\n",
    "        partition_indices = y_train[attribute_values == value].index\n",
    "        partition_gini = calculate_gini_index(y_train[partition_indices])\n",
    "        gini += len(partition_indices) / len(y_train) * partition_gini\n",
    "    return gini\n"
   ]
  },
  {
   "cell_type": "code",
   "execution_count": 52,
   "id": "0c88ed5c",
   "metadata": {},
   "outputs": [],
   "source": [
    "def predict_single(x, tree):\n",
    "    if 'class_label' in tree:\n",
    "        # Single data point\n",
    "        return tree['class_label']\n",
    "    else:\n",
    "        value = x[tree['attribute']]\n",
    "        if value in tree['leaf']:\n",
    "            # leaf has only class label or a nested dictionary\n",
    "            next_node = tree['leaf'][value]\n",
    "            if 'class_label' in next_node:\n",
    "                return next_node['class_label']\n",
    "            else:\n",
    "                return predict_single(x, next_node)\n",
    "        else:\n",
    "            return list(tree['leaf'].values())[0]\n",
    "\n",
    "\n",
    "def predict(X, tree):\n",
    "    return [predict_single(x, tree) for i, x in X.iterrows()]"
   ]
  },
  {
   "cell_type": "code",
   "execution_count": 53,
   "id": "cbe92fc0",
   "metadata": {},
   "outputs": [],
   "source": [
    "attributes = df_voting_shuffle.columns[:-1].tolist()\n",
    "target = df_voting_shuffle['target']\n",
    "train_df, test_df = train_test_split(df_voting_shuffle, test_size=0.2, random_state=34)"
   ]
  },
  {
   "cell_type": "code",
   "execution_count": 54,
   "id": "cbc92ad4",
   "metadata": {},
   "outputs": [],
   "source": [
    " # Split the DataFrame into features and target for training and testing sets\n",
    "X_train, y_train = train_df[attributes], train_df['target']\n",
    "X_test, y_test = test_df[attributes], test_df['target']"
   ]
  },
  {
   "cell_type": "code",
   "execution_count": 55,
   "id": "a3947858",
   "metadata": {},
   "outputs": [],
   "source": [
    "# Build the decision tree using the training set\n",
    "root_node = decision_tree(X_train, y_train, attributes)"
   ]
  },
  {
   "cell_type": "code",
   "execution_count": 56,
   "id": "2355507b",
   "metadata": {},
   "outputs": [],
   "source": [
    "import numpy as np\n",
    "import matplotlib.pyplot as plt\n",
    "from sklearn.utils import shuffle\n",
    "\n",
    "# Function to calculate accuracy\n",
    "def calculate_accuracy(predictions, actual):\n",
    "    return np.sum(predictions == actual) / len(actual)\n",
    "\n",
    "# Function to train and evaluate Decision Tree 100 times\n",
    "def run_decision_tree(df, attributes, target, num_iterations=100):\n",
    "    accuracy_train_list = []\n",
    "    accuracy_test_list = []\n",
    "\n",
    "    for i in range(num_iterations):\n",
    "        # Shuffle the dataset\n",
    "        df_shuffled = shuffle(df)\n",
    "\n",
    "        # Split the DataFrame into features and target for training and testing sets\n",
    "        train_df, test_df = train_test_split(df_shuffled, test_size=0.2, random_state=np.random.randint(1, 1000))\n",
    "\n",
    "        X_train, y_train = train_df[attributes], train_df[target]\n",
    "        X_test, y_test = test_df[attributes], test_df[target]\n",
    "\n",
    "        # Build the decision tree using the training set\n",
    "        root_node = decision_tree(X_train, y_train, attributes)\n",
    "\n",
    "        # Make predictions on the training set\n",
    "        predictions_train = predict(X_train, root_node)\n",
    "        accuracy_train = calculate_accuracy(predictions_train, y_train)\n",
    "        accuracy_train_list.append(accuracy_train)\n",
    "\n",
    "        # Make predictions on the test set\n",
    "        predictions_test = predict(X_test, root_node)\n",
    "        accuracy_test = calculate_accuracy(predictions_test, y_test)\n",
    "        accuracy_test_list.append(accuracy_test)\n",
    "\n",
    "    return accuracy_train_list, accuracy_test_list\n"
   ]
  },
  {
   "cell_type": "code",
   "execution_count": 57,
   "id": "55693368",
   "metadata": {},
   "outputs": [],
   "source": [
    "# Run the experiment\n",
    "attributes = df_voting_shuffle.columns[:-1].tolist()\n",
    "target = 'target'\n",
    "df_voting_shuffle = shuffle(df_voting_shuffle, random_state=np.random.randint(1, 1000)) \n",
    "accuracy_train, accuracy_test = run_decision_tree(df_voting_shuffle, attributes, target)"
   ]
  },
  {
   "cell_type": "code",
   "execution_count": 58,
   "id": "c14b3015",
   "metadata": {},
   "outputs": [
    {
     "name": "stdout",
     "output_type": "stream",
     "text": [
      "Mean Training Accuracy: 1.0\n",
      "Mean Testing Accuracy: 0.9380459770114943\n",
      "Standard Deviation Training Accuracy: 0.0\n",
      "Standard Deviation Testing Accuracy: 0.02360635244609429\n"
     ]
    }
   ],
   "source": [
    "mean_accuracy_train = np.mean(accuracy_train)\n",
    "mean_accuracy_test = np.mean(accuracy_test)\n",
    "\n",
    "# Print or use the values as needed\n",
    "print(\"Mean Training Accuracy:\", mean_accuracy_train)\n",
    "print(\"Mean Testing Accuracy:\", mean_accuracy_test)\n",
    "\n",
    "\n",
    "std_dev_accuracy_train = np.std(accuracy_train)\n",
    "std_dev_accuracy_test = np.std(accuracy_test)\n",
    "\n",
    "print(\"Standard Deviation Training Accuracy:\", std_dev_accuracy_train)\n",
    "print(\"Standard Deviation Testing Accuracy:\", std_dev_accuracy_test)"
   ]
  },
  {
   "cell_type": "code",
   "execution_count": 39,
   "id": "914c621a",
   "metadata": {},
   "outputs": [
    {
     "data": {
      "image/png": "[encoded data removed]",
      "text/plain": [
       "<Figure size 864x432 with 1 Axes>"
      ]
     },
     "metadata": {
      "needs_background": "light"
     },
     "output_type": "display_data"
    }
   ],
   "source": [
    "\n",
    "# Plot histograms\n",
    "plt.figure(figsize=(12, 6))\n",
    "plt.subplot(1, 2, 1)\n",
    "plt.hist(accuracy_train, bins=20, edgecolor='black')\n",
    "plt.title('Accuracy Distribution on Training Set on Gini')\n",
    "plt.xlabel('Accuracy')\n",
    "plt.ylabel('Frequency')\n",
    "\n",
    "\n",
    "plt.tight_layout()\n",
    "plt.show()\n"
   ]
  },
  {
   "cell_type": "code",
   "execution_count": 40,
   "id": "e0614522",
   "metadata": {},
   "outputs": [
    {
     "data": {
      "image/png": "[encoded data removed]",
      "text/plain": [
       "<Figure size 864x432 with 1 Axes>"
      ]
     },
     "metadata": {
      "needs_background": "light"
     },
     "output_type": "display_data"
    }
   ],
   "source": [
    "plt.figure(figsize=(12, 6))\n",
    "plt.subplot(1, 2, 1)\n",
    "plt.hist(accuracy_test, bins=20, edgecolor='black')\n",
    "plt.title('Accuracy Distribution on Testing Set on Gini')\n",
    "plt.xlabel('Accuracy')\n",
    "plt.ylabel('Frequency')\n",
    "\n",
    "plt.tight_layout()\n",
    "plt.show()"
   ]
  },
  {
   "cell_type": "markdown",
   "id": "c146ba35",
   "metadata": {},
   "source": [
    "## Decision Trees with 0.85 threshold"
   ]
  },
  {
   "cell_type": "code",
   "execution_count": 59,
   "id": "6af08c3f",
   "metadata": {},
   "outputs": [],
   "source": [
    "def decision_tree(X_train, y_train, remaining_attributes):\n",
    "    # If all instances belong to the same class\n",
    "    if len(set(y_train)) == 1:\n",
    "        return {\"class_label\": y_train.iloc[0]}\n",
    "    if not remaining_attributes or len(y_train) <= 0.85 * len(X_train):\n",
    "        # If no more attributes left or instances threshold reached\n",
    "        class_counts = y_train.value_counts()\n",
    "        majority_class = class_counts.idxmax()\n",
    "        return {\"class_label\": majority_class}\n",
    "\n",
    "    info_gain_values = [information_gain(y_train, X_train[attr]) for attr in remaining_attributes]\n",
    "    best_attribute = remaining_attributes[np.argmax(info_gain_values)] # Highest info gain attribute\n",
    "    remaining_attributes_copy = remaining_attributes.copy()  # Make a copy\n",
    "    remaining_attributes_copy.remove(best_attribute) # L(attr)-Selected(attr)\n",
    "    remaining_attributes = remaining_attributes_copy.copy()  # Update remaining_attributes\n",
    "    \n",
    "    # Create a dictionary for the current decision node\n",
    "    node = {\"attribute\": best_attribute, \"leaf\": {}}\n",
    "    # Create a list of values for the selected attribute\n",
    "    attribute_values = set(X_train[best_attribute])\n",
    "\n",
    "    # For each attribute value, create sub-trees and edges\n",
    "    for value in attribute_values:\n",
    "        # Partition - based on the attribute value\n",
    "        partition = X_train[X_train[best_attribute] == value]\n",
    "\n",
    "        if partition.empty:\n",
    "            # If partition is empty, leaf node = node with majority class\n",
    "            majority_class = y_train.value_counts().idxmax()\n",
    "            node[\"leaf\"][value] = {\"class_label\": majority_class}\n",
    "        else:\n",
    "            # Recursively create a sub-tree\n",
    "            subtree = decision_tree(partition, y_train[partition.index], remaining_attributes)\n",
    "            node[\"leaf\"][value] = subtree\n",
    "    return node\n",
    "\n",
    "def entropy(labels):\n",
    "    unique_labels, counts = np.unique(labels, return_counts=True)\n",
    "    probabilities = counts / len(labels)\n",
    "    entropy_value = -np.sum(probabilities * np.log2(probabilities))\n",
    "    return entropy_value\n",
    "\n",
    "def information_gain(y, x):\n",
    "    parent_entropy = entropy(y)\n",
    "    # InfoA(D)\n",
    "    info_a = 0\n",
    "    for value in set(x):\n",
    "        partition_indices = x[x == value].index\n",
    "        partition_entropy = entropy(y[partition_indices])\n",
    "        info_a += len(partition_indices) / len(x) * partition_entropy\n",
    "    # GainA(D)\n",
    "    gain_a = parent_entropy - info_a\n",
    "    return gain_a"
   ]
  },
  {
   "cell_type": "code",
   "execution_count": 60,
   "id": "eae8794d",
   "metadata": {},
   "outputs": [],
   "source": [
    "def predict_single(x, tree):\n",
    "    if 'class_label' in tree:\n",
    "        # Single data point\n",
    "        return tree['class_label']\n",
    "    else:\n",
    "        value = x[tree['attribute']]\n",
    "        if value in tree['leaf']:\n",
    "            # leaf has only class label or a nested dictionary\n",
    "            next_node = tree['leaf'][value]\n",
    "            if 'class_label' in next_node:\n",
    "                return next_node['class_label']\n",
    "            else:\n",
    "                return predict_single(x, next_node)\n",
    "        else:\n",
    "            return list(tree['leaf'].values())[0]\n",
    "\n",
    "def predict(X, tree):\n",
    "    return [predict_single(x, tree) for i, x in X.iterrows()]"
   ]
  },
  {
   "cell_type": "code",
   "execution_count": 61,
   "id": "b40282ac",
   "metadata": {},
   "outputs": [],
   "source": [
    "attributes = df_voting_shuffle.columns[:-1].tolist()\n",
    "target = df_voting_shuffle['target']\n",
    "train_df, test_df = train_test_split(df_voting_shuffle, test_size=0.2, random_state=34)\n",
    "\n",
    " # Split the DataFrame into features and target for training and testing sets\n",
    "X_train, y_train = train_df[attributes], train_df['target']\n",
    "X_test, y_test = test_df[attributes], test_df['target']\n",
    "\n",
    "# Build the decision tree using the training set\n",
    "root_node = decision_tree(X_train, y_train, attributes)"
   ]
  },
  {
   "cell_type": "code",
   "execution_count": 62,
   "id": "495cd2d6",
   "metadata": {},
   "outputs": [],
   "source": [
    "# Function to calculate accuracy\n",
    "def calculate_accuracy(predictions, actual):\n",
    "    return np.sum(predictions == actual) / len(actual)\n",
    "\n",
    "# Function to train and evaluate Decision Tree 100 times\n",
    "def run_decision_tree(df, attributes, target, num_iterations=100):\n",
    "    accuracy_train_list = []\n",
    "    accuracy_test_list = []\n",
    "\n",
    "    for i in range(num_iterations):\n",
    "        # Shuffle the dataset\n",
    "        df_shuffled = shuffle(df)\n",
    "\n",
    "        # Split the DataFrame into features and target for training and testing sets\n",
    "        train_df, test_df = train_test_split(df_shuffled, test_size=0.2, random_state=np.random.randint(1, 1000))\n",
    "\n",
    "        X_train, y_train = train_df[attributes], train_df[target]\n",
    "        X_test, y_test = test_df[attributes], test_df[target]\n",
    "\n",
    "        # Build the decision tree using the training set\n",
    "        root_node = decision_tree(X_train, y_train, attributes)\n",
    "\n",
    "        # Make predictions on the training set\n",
    "        predictions_train = predict(X_train, root_node)\n",
    "        accuracy_train = calculate_accuracy(predictions_train, y_train)\n",
    "        accuracy_train_list.append(accuracy_train)\n",
    "\n",
    "        # Make predictions on the test set\n",
    "        predictions_test = predict(X_test, root_node)\n",
    "        accuracy_test = calculate_accuracy(predictions_test, y_test)\n",
    "        accuracy_test_list.append(accuracy_test)\n",
    "        \n",
    "    return accuracy_train_list, accuracy_test_list"
   ]
  },
  {
   "cell_type": "code",
   "execution_count": 63,
   "id": "da3fa93b",
   "metadata": {},
   "outputs": [],
   "source": [
    "# Run the experiment\n",
    "attributes = df_voting_shuffle.columns[:-1].tolist()\n",
    "target = 'target'\n",
    "df_voting_shuffle = shuffle(df_voting_shuffle, random_state=np.random.randint(1, 1000)) \n",
    "accuracy_train, accuracy_test = run_decision_tree(df_voting_shuffle, attributes, target)"
   ]
  },
  {
   "cell_type": "code",
   "execution_count": 64,
   "id": "ea6f4640",
   "metadata": {},
   "outputs": [
    {
     "name": "stdout",
     "output_type": "stream",
     "text": [
      "Mean Training Accuracy: 1.0\n",
      "Mean Testing Accuracy: 0.9331034482758621\n",
      "Standard Deviation Training Accuracy: 0.0\n",
      "Standard Deviation Testing Accuracy: 0.02456545313335337\n"
     ]
    }
   ],
   "source": [
    "mean_accuracy_train = np.mean(accuracy_train)\n",
    "mean_accuracy_test = np.mean(accuracy_test)\n",
    "\n",
    "# Print or use the values as needed\n",
    "print(\"Mean Training Accuracy:\", mean_accuracy_train)\n",
    "print(\"Mean Testing Accuracy:\", mean_accuracy_test)\n",
    "\n",
    "\n",
    "std_dev_accuracy_train = np.std(accuracy_train)\n",
    "std_dev_accuracy_test = np.std(accuracy_test)\n",
    "\n",
    "print(\"Standard Deviation Training Accuracy:\", std_dev_accuracy_train)\n",
    "print(\"Standard Deviation Testing Accuracy:\", std_dev_accuracy_test)"
   ]
  },
  {
   "cell_type": "code",
   "execution_count": 65,
   "id": "6d37c976",
   "metadata": {},
   "outputs": [
    {
     "data": {
      "text/plain": [
       "Text(0, 0.5, 'Frequency')"
      ]
     },
     "execution_count": 65,
     "metadata": {},
     "output_type": "execute_result"
    },
    {
     "data": {
      "image/png": "[encoded data removed]",
      "text/plain": [
       "<Figure size 864x432 with 1 Axes>"
      ]
     },
     "metadata": {
      "needs_background": "light"
     },
     "output_type": "display_data"
    }
   ],
   "source": [
    "# Plot histograms\n",
    "plt.figure(figsize=(12, 6))\n",
    "\n",
    "plt.subplot(1, 2, 1)\n",
    "plt.hist(accuracy_train, bins=20, edgecolor='black')\n",
    "plt.title('Accuracy Distribution on Training Set on 85% threshold')\n",
    "plt.xlabel('Accuracy')\n",
    "plt.ylabel('Frequency')\n"
   ]
  },
  {
   "cell_type": "code",
   "execution_count": 31,
   "id": "a0bfca62",
   "metadata": {},
   "outputs": [
    {
     "data": {
      "image/png": "[encoded data removed]",
      "text/plain": [
       "<Figure size 864x432 with 1 Axes>"
      ]
     },
     "metadata": {
      "needs_background": "light"
     },
     "output_type": "display_data"
    }
   ],
   "source": [
    "# Plot histograms\n",
    "plt.figure(figsize=(12, 6))\n",
    "plt.subplot(1, 2, 2)\n",
    "plt.hist(accuracy_test, bins=20, edgecolor='black')\n",
    "plt.title('Accuracy Distribution on Testing Set on 85% threshold')\n",
    "plt.xlabel('Accuracy')\n",
    "plt.ylabel('Frequency')\n",
    "plt.tight_layout()\n",
    "plt.show()\n"
   ]
  },
  {
   "cell_type": "code",
   "execution_count": null,
   "id": "3a24557b",
   "metadata": {},
   "outputs": [],
   "source": []
  },
  {
   "cell_type": "code",
   "execution_count": null,
   "id": "ba875b2c",
   "metadata": {},
   "outputs": [],
   "source": []
  },
  {
   "cell_type": "code",
   "execution_count": null,
   "id": "fa5276f1",
   "metadata": {},
   "outputs": [],
   "source": []
  }
 ],
 "metadata": {
  "kernelspec": {
   "display_name": "Python 3 (ipykernel)",
   "language": "python",
   "name": "python3"
  },
  "language_info": {
   "codemirror_mode": {
    "name": "ipython",
    "version": 3
   },
   "file_extension": ".py",
   "mimetype": "text/x-python",
   "name": "python",
   "nbconvert_exporter": "python",
   "pygments_lexer": "ipython3",
   "version": "3.9.7"
  }
 },
 "nbformat": 4,
 "nbformat_minor": 5
}
