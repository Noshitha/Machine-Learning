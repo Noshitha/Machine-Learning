{
 "cells": [
  {
   "cell_type": "code",
   "execution_count": 2,
   "id": "e6fe97b0",
   "metadata": {
    "scrolled": false
   },
   "outputs": [
    {
     "name": "stdout",
     "output_type": "stream",
     "text": [
      "num_trees:  5\n"
     ]
    },
    {
     "name": "stderr",
     "output_type": "stream",
     "text": [
      "/var/folders/bm/l2zpyjxn2gqg_1d20xgx5z0w0000gn/T/ipykernel_60835/1537467972.py:107: RuntimeWarning: invalid value encountered in long_scalars\n",
      "  accuracy = np.sum(TP) / np.sum(conf_matrix)\n",
      "/var/folders/bm/l2zpyjxn2gqg_1d20xgx5z0w0000gn/T/ipykernel_60835/1537467972.py:109: RuntimeWarning: invalid value encountered in true_divide\n",
      "  precision = np.where(TP + FP == 0, 0, TP / (TP + FP))\n",
      "/var/folders/bm/l2zpyjxn2gqg_1d20xgx5z0w0000gn/T/ipykernel_60835/1537467972.py:110: RuntimeWarning: invalid value encountered in true_divide\n",
      "  recall = np.where(TP + FN == 0, 0, TP / (TP + FN))\n",
      "/var/folders/bm/l2zpyjxn2gqg_1d20xgx5z0w0000gn/T/ipykernel_60835/1537467972.py:111: RuntimeWarning: invalid value encountered in true_divide\n",
      "  f1_score = 2 * (precision * recall) / (precision + recall)\n",
      "/var/folders/bm/l2zpyjxn2gqg_1d20xgx5z0w0000gn/T/ipykernel_60835/1537467972.py:157: RuntimeWarning: Mean of empty slice\n",
      "  mean_f1_score = np.nanmean([np.nanmean(f1_score, axis=0) for f1_score in f1_scores], axis=0)\n"
     ]
    },
    {
     "name": "stdout",
     "output_type": "stream",
     "text": [
      "Accuracies: nan\n",
      "Precisions: 0.0\n",
      "Recalls: 0.0\n",
      "F1-scores: nan\n"
     ]
    }
   ],
   "source": [
    "import numpy as np\n",
    "import pandas as pd\n",
    "from collections import Counter\n",
    "from sklearn.model_selection import train_test_split\n",
    "from sklearn.utils import shuffle\n",
    "from sklearn.metrics import accuracy_score, precision_score, recall_score, f1_score\n",
    "\n",
    "def entropy(labels):\n",
    "    unique_labels, counts = np.unique(labels, return_counts=True)\n",
    "    probabilities = counts / len(labels)\n",
    "    entropy_value = -np.sum(probabilities * np.log2(probabilities))\n",
    "    return entropy_value\n",
    "\n",
    "def information_gain(y, x):\n",
    "    parent_entropy = entropy(y)\n",
    "    info_a = 0\n",
    "    for value in set(x):\n",
    "        partition_indices = x[x == value].index\n",
    "        partition_entropy = entropy(y[partition_indices])\n",
    "        info_a += len(partition_indices) / len(x) * partition_entropy\n",
    "    gain_a = parent_entropy - info_a\n",
    "    return gain_a\n",
    "\n",
    "def decision_tree(X_train, y_train, max_depth, current_depth=0):\n",
    "    if len(set(y_train)) == 1 or current_depth == max_depth or len(X_train.columns) == 0:\n",
    "        class_counts = Counter(y_train)\n",
    "        majority_class = class_counts.most_common(1)[0][0]\n",
    "        return {\"class_label\": majority_class}\n",
    "    \n",
    "    gains = {attr: information_gain(y_train, X_train[attr]) for attr in X_train.columns}\n",
    "    best_attr = max(gains, key=gains.get)\n",
    "    node = {\"attribute\": best_attr, \"leaf\": {}}\n",
    "    unique_values = X_train[best_attr].unique()\n",
    "    for value in unique_values:\n",
    "        partition_indices = X_train[X_train[best_attr] == value].index\n",
    "        node[\"leaf\"][value] = decision_tree(X_train.loc[partition_indices], y_train.loc[partition_indices], max_depth, current_depth + 1)\n",
    "    return node\n",
    "\n",
    "def classify_random_forest(trees, subsampled_attributes, X_test):\n",
    "    class_labels = []\n",
    "    for _, test_row in X_test.iterrows():\n",
    "        tree_votes = []\n",
    "        for tree, sub_attributes in zip(trees, subsampled_attributes):\n",
    "            test_features = pd.DataFrame(test_row[sub_attributes]).T\n",
    "            predicted_label = classify(tree, test_features)\n",
    "            tree_votes.append(predicted_label[0])  # Append predicted label\n",
    "        class_labels.append(max(set(tree_votes), key=tree_votes.count))  # Perform majority voting\n",
    "    return class_labels\n",
    "\n",
    "def classify(tree, features):\n",
    "    class_labels = []\n",
    "    for _, feature in features.iterrows():\n",
    "        node = tree\n",
    "        while \"class_label\" not in node:\n",
    "            split_attr = node[\"attribute\"]\n",
    "            feature_value = feature[split_attr]\n",
    "            if feature_value in node[\"leaf\"]:\n",
    "                node = node[\"leaf\"][feature_value]\n",
    "            else:\n",
    "                class_labels.append(max(node[\"leaf\"].items(), key=lambda x: len(x[1]))[0])\n",
    "                break\n",
    "        else:\n",
    "            class_labels.append(node[\"class_label\"])\n",
    "    return class_labels\n",
    "\n",
    "def bootstrap_sampling(X, y):\n",
    "    indices = np.random.choice(len(X), size=len(X), replace=True)\n",
    "    return X.iloc[indices], y.iloc[indices]\n",
    "\n",
    "def fit_random_forest(num_trees, max_depth, example_subsample_rate, attr_subsample_rate, X_train, y_train):\n",
    "    trees = []\n",
    "    subsampled_attributes = []\n",
    "\n",
    "    for i in range(num_trees):\n",
    "        # Bootstrap sampling to create a bootstrapped dataset\n",
    "        bootstrapped_X, bootstrapped_y = bootstrap_sampling(X_train, y_train)\n",
    "\n",
    "        # Subsample attributes\n",
    "        subsampled_attr_indexes = np.random.choice(range(X_train.shape[1]), int(X_train.shape[1] * attr_subsample_rate), replace=False)\n",
    "        subsampled_attributes.append(subsampled_attr_indexes.tolist())\n",
    "        subsampled_X = bootstrapped_X.iloc[:, subsampled_attr_indexes]\n",
    "\n",
    "        # Build decision tree using the bootstrapped and subsampled dataset\n",
    "        tree = decision_tree(subsampled_X, bootstrapped_y, max_depth)\n",
    "        trees.append(tree)\n",
    "\n",
    "    return trees, subsampled_attributes\n",
    "\n",
    "def confusion_matrix(y_true, y_pred):\n",
    "    classes = np.unique(np.concatenate([y_true, y_pred]))\n",
    "    n_classes = len(classes)\n",
    "    conf_matrix = np.zeros((n_classes, n_classes), dtype=int)\n",
    "\n",
    "    for i, true_label in enumerate(classes):\n",
    "        for j, pred_label in enumerate(classes):\n",
    "            conf_matrix[i, j] = np.sum((y_true == true_label) & (y_pred == pred_label))\n",
    "\n",
    "    return conf_matrix\n",
    "\n",
    "\n",
    "def calculate_metrics(conf_matrix):\n",
    "    TP = np.diag(conf_matrix)\n",
    "    FP = np.sum(conf_matrix, axis=0) - TP\n",
    "    FN = np.sum(conf_matrix, axis=1) - TP\n",
    "    TN = np.sum(conf_matrix) - (TP + FP + FN)\n",
    "\n",
    "    accuracy = np.sum(TP) / np.sum(conf_matrix)\n",
    "    \n",
    "    precision = np.where(TP + FP == 0, 0, TP / (TP + FP))\n",
    "    recall = np.where(TP + FN == 0, 0, TP / (TP + FN))\n",
    "    f1_score = 2 * (precision * recall) / (precision + recall)\n",
    "    \n",
    "    return accuracy, precision, recall, f1_score\n",
    "\n",
    "\n",
    "def stratified_cross_validation(X, y, n_folds, num_trees, max_depth, example_subsample_rate, attr_subsample_rate):\n",
    "    fold_size = len(X) // n_folds\n",
    "    accuracies = []\n",
    "    precisions = []\n",
    "    recalls = []\n",
    "    f1_scores = []\n",
    "    conf_matrices = []\n",
    "    all_predictions = []\n",
    "\n",
    "    for i in range(n_folds):\n",
    "        start = i * fold_size\n",
    "        end = (i + 1) * fold_size\n",
    "\n",
    "        X_train_fold = pd.concat([X[:start], X[end:]])\n",
    "        y_train_fold = pd.concat([y[:start], y[end:]])\n",
    "\n",
    "        X_validation_fold = X[start:end]\n",
    "        y_validation_fold = y[start:end]\n",
    "        \n",
    "        trees, subsampled_attributes = fit_random_forest(num_trees, max_depth, example_subsample_rate, attr_subsample_rate, X_train_fold, y_train_fold)\n",
    "        predictions = classify_random_forest(trees, subsampled_attributes, X_validation_fold)\n",
    "        \n",
    "        all_predictions.extend(predictions)\n",
    "        \n",
    "        # Convert y_validation_fold to list\n",
    "        y_validation_fold_list = y_validation_fold.tolist()\n",
    "        \n",
    "        # Calculate metrics\n",
    "        conf_matrix = confusion_matrix(y_validation_fold_list, predictions)\n",
    "        acc, prec, rec, f1 = calculate_metrics(conf_matrix)\n",
    "        \n",
    "        accuracies.append(acc)\n",
    "        precisions.append(prec)\n",
    "        recalls.append(rec)\n",
    "        f1_scores.append(f1)\n",
    "        \n",
    "        conf_matrices.append(conf_matrix)\n",
    "\n",
    "        mean_accuracy = np.mean(accuracies)\n",
    "        mean_precision = np.mean([np.mean(precision, axis=0) for precision in precisions], axis=0)\n",
    "        mean_recall = np.mean([np.mean(recall, axis=0) for recall in recalls], axis=0)\n",
    "        mean_f1_score = np.nanmean([np.nanmean(f1_score, axis=0) for f1_score in f1_scores], axis=0)\n",
    "\n",
    "    return mean_accuracy, mean_precision, mean_recall, mean_f1_score\n",
    "        \n",
    "        \n",
    "\n",
    "if __name__ == \"__main__\":\n",
    "    df_loan = pd.read_csv(\"/Users/noshitha/Downloads/final_project/loan.csv\", delimiter=\",\")\n",
    "\n",
    "    #Shuffle the dataset\n",
    "    df_loan_shuffle = shuffle(df_loan)\n",
    "\n",
    "    #Split the dataset into features and target variable\n",
    "    X = df_loan_shuffle.iloc[:, :-1]\n",
    "    y = df_loan_shuffle.iloc[:, -1]\n",
    "\n",
    "    #n_trees_list = [1, 5, 10, 20, 30, 40, 50]\n",
    "    n_trees_list = [5]\n",
    "    n_folds = 10\n",
    "    max_depth = 3\n",
    "    example_subsample_rate = 0.5\n",
    "    attr_subsample_rate = 0.5\n",
    "\n",
    "    accuracy  = []\n",
    "    precision = []\n",
    "    recall    = []\n",
    "    f1_score  = []\n",
    "\n",
    "    for num_trees in n_trees_list:\n",
    "        print(\"num_trees: \",num_trees)\n",
    "        accuracies, precisions, recalls, f1_scores = stratified_cross_validation(X, y, n_folds, num_trees, max_depth, example_subsample_rate, attr_subsample_rate)\n",
    "        print(\"Accuracies:\", accuracies)\n",
    "        print(\"Precisions:\", precisions)\n",
    "        print(\"Recalls:\", recalls)\n",
    "        print(\"F1-scores:\", f1_scores)\n",
    "        accuracy.append(accuracies)\n",
    "        precision.append(precisions)\n",
    "        recall.append(recalls)\n",
    "        f1_score.append(f1_scores)"
   ]
  },
  {
   "cell_type": "code",
   "execution_count": 3,
   "id": "76458bbb",
   "metadata": {},
   "outputs": [
    {
     "data": {
      "text/html": [
       "<div>\n",
       "<style scoped>\n",
       "    .dataframe tbody tr th:only-of-type {\n",
       "        vertical-align: middle;\n",
       "    }\n",
       "\n",
       "    .dataframe tbody tr th {\n",
       "        vertical-align: top;\n",
       "    }\n",
       "\n",
       "    .dataframe thead th {\n",
       "        text-align: right;\n",
       "    }\n",
       "</style>\n",
       "<table border=\"1\" class=\"dataframe\">\n",
       "  <thead>\n",
       "    <tr style=\"text-align: right;\">\n",
       "      <th></th>\n",
       "      <th>Loan_ID</th>\n",
       "      <th>Gender</th>\n",
       "      <th>Married</th>\n",
       "      <th>Dependents</th>\n",
       "      <th>Education</th>\n",
       "      <th>Self_Employed</th>\n",
       "      <th>ApplicantIncome</th>\n",
       "      <th>CoapplicantIncome</th>\n",
       "      <th>LoanAmount</th>\n",
       "      <th>Loan_Amount_Term</th>\n",
       "      <th>Credit_History</th>\n",
       "      <th>Property_Area</th>\n",
       "    </tr>\n",
       "  </thead>\n",
       "  <tbody>\n",
       "    <tr>\n",
       "      <th>97</th>\n",
       "      <td>LP001478</td>\n",
       "      <td>Male</td>\n",
       "      <td>No</td>\n",
       "      <td>0</td>\n",
       "      <td>Graduate</td>\n",
       "      <td>No</td>\n",
       "      <td>2718</td>\n",
       "      <td>0.0</td>\n",
       "      <td>70</td>\n",
       "      <td>360</td>\n",
       "      <td>1</td>\n",
       "      <td>Semiurban</td>\n",
       "    </tr>\n",
       "    <tr>\n",
       "      <th>121</th>\n",
       "      <td>LP001543</td>\n",
       "      <td>Male</td>\n",
       "      <td>Yes</td>\n",
       "      <td>1</td>\n",
       "      <td>Graduate</td>\n",
       "      <td>No</td>\n",
       "      <td>9538</td>\n",
       "      <td>0.0</td>\n",
       "      <td>187</td>\n",
       "      <td>360</td>\n",
       "      <td>1</td>\n",
       "      <td>Urban</td>\n",
       "    </tr>\n",
       "    <tr>\n",
       "      <th>151</th>\n",
       "      <td>LP001664</td>\n",
       "      <td>Male</td>\n",
       "      <td>No</td>\n",
       "      <td>0</td>\n",
       "      <td>Graduate</td>\n",
       "      <td>No</td>\n",
       "      <td>4191</td>\n",
       "      <td>0.0</td>\n",
       "      <td>120</td>\n",
       "      <td>360</td>\n",
       "      <td>1</td>\n",
       "      <td>Rural</td>\n",
       "    </tr>\n",
       "    <tr>\n",
       "      <th>15</th>\n",
       "      <td>LP001038</td>\n",
       "      <td>Male</td>\n",
       "      <td>Yes</td>\n",
       "      <td>0</td>\n",
       "      <td>Not Graduate</td>\n",
       "      <td>No</td>\n",
       "      <td>4887</td>\n",
       "      <td>0.0</td>\n",
       "      <td>133</td>\n",
       "      <td>360</td>\n",
       "      <td>1</td>\n",
       "      <td>Rural</td>\n",
       "    </tr>\n",
       "    <tr>\n",
       "      <th>54</th>\n",
       "      <td>LP001238</td>\n",
       "      <td>Male</td>\n",
       "      <td>Yes</td>\n",
       "      <td>3+</td>\n",
       "      <td>Not Graduate</td>\n",
       "      <td>Yes</td>\n",
       "      <td>7100</td>\n",
       "      <td>0.0</td>\n",
       "      <td>125</td>\n",
       "      <td>60</td>\n",
       "      <td>1</td>\n",
       "      <td>Urban</td>\n",
       "    </tr>\n",
       "  </tbody>\n",
       "</table>\n",
       "</div>"
      ],
      "text/plain": [
       "      Loan_ID Gender Married Dependents     Education Self_Employed  \\\n",
       "97   LP001478   Male      No          0      Graduate            No   \n",
       "121  LP001543   Male     Yes          1      Graduate            No   \n",
       "151  LP001664   Male      No          0      Graduate            No   \n",
       "15   LP001038   Male     Yes          0  Not Graduate            No   \n",
       "54   LP001238   Male     Yes         3+  Not Graduate           Yes   \n",
       "\n",
       "     ApplicantIncome  CoapplicantIncome  LoanAmount  Loan_Amount_Term  \\\n",
       "97              2718                0.0          70               360   \n",
       "121             9538                0.0         187               360   \n",
       "151             4191                0.0         120               360   \n",
       "15              4887                0.0         133               360   \n",
       "54              7100                0.0         125                60   \n",
       "\n",
       "     Credit_History Property_Area  \n",
       "97                1     Semiurban  \n",
       "121               1         Urban  \n",
       "151               1         Rural  \n",
       "15                1         Rural  \n",
       "54                1         Urban  "
      ]
     },
     "execution_count": 3,
     "metadata": {},
     "output_type": "execute_result"
    }
   ],
   "source": [
    "X.head()"
   ]
  },
  {
   "cell_type": "code",
   "execution_count": 5,
   "id": "6954cf1c",
   "metadata": {},
   "outputs": [
    {
     "data": {
      "text/plain": [
       "97     Y\n",
       "121    Y\n",
       "151    Y\n",
       "15     N\n",
       "54     Y\n",
       "Name: Loan_Status, dtype: object"
      ]
     },
     "execution_count": 5,
     "metadata": {},
     "output_type": "execute_result"
    }
   ],
   "source": [
    "y.head()"
   ]
  },
  {
   "cell_type": "markdown",
   "id": "89673622",
   "metadata": {},
   "source": [
    "### Accuracy"
   ]
  },
  {
   "cell_type": "code",
   "execution_count": 7,
   "id": "c3fdf97d",
   "metadata": {},
   "outputs": [
    {
     "data": {
      "image/png": "[encoded data removed]",
      "text/plain": [
       "<Figure size 432x288 with 1 Axes>"
      ]
     },
     "metadata": {
      "needs_background": "light"
     },
     "output_type": "display_data"
    }
   ],
   "source": [
    "import matplotlib.pyplot as plt\n",
    "\n",
    "plt.plot(n_trees_list, accuracy, marker='o')\n",
    "plt.xlabel('Number of Trees')\n",
    "plt.ylabel('Accuracy')\n",
    "plt.title('Accuracy vs Number of Trees - Cancer Dataset')\n",
    "plt.grid(True)\n",
    "plt.show()"
   ]
  },
  {
   "cell_type": "markdown",
   "id": "60c03e2a",
   "metadata": {},
   "source": [
    "### Precision"
   ]
  },
  {
   "cell_type": "code",
   "execution_count": 9,
   "id": "775a99f7",
   "metadata": {},
   "outputs": [
    {
     "data": {
      "image/png": "[encoded data removed]",
      "text/plain": [
       "<Figure size 432x288 with 1 Axes>"
      ]
     },
     "metadata": {
      "needs_background": "light"
     },
     "output_type": "display_data"
    }
   ],
   "source": [
    "import matplotlib.pyplot as plt\n",
    "\n",
    "plt.plot(n_trees_list, precision, marker='o')\n",
    "plt.xlabel('Number of Trees')\n",
    "plt.ylabel('Precision')\n",
    "plt.title('Precision vs Number of Trees - Cancer Dataset')\n",
    "plt.grid(True)\n",
    "plt.show()"
   ]
  },
  {
   "cell_type": "markdown",
   "id": "36ec706e",
   "metadata": {},
   "source": [
    "### Recall"
   ]
  },
  {
   "cell_type": "code",
   "execution_count": 10,
   "id": "aa70f34b",
   "metadata": {},
   "outputs": [
    {
     "data": {
      "image/png": "[encoded data removed]",
      "text/plain": [
       "<Figure size 432x288 with 1 Axes>"
      ]
     },
     "metadata": {
      "needs_background": "light"
     },
     "output_type": "display_data"
    }
   ],
   "source": [
    "import matplotlib.pyplot as plt\n",
    "\n",
    "plt.plot(n_trees_list, precision, marker='o')\n",
    "plt.xlabel('Number of Trees')\n",
    "plt.ylabel('Recall')\n",
    "plt.title('Recall vs Number of Trees - Cancer Dataset')\n",
    "plt.grid(True)\n",
    "plt.show()"
   ]
  },
  {
   "cell_type": "markdown",
   "id": "168e3f65",
   "metadata": {},
   "source": [
    "### F1_score"
   ]
  },
  {
   "cell_type": "code",
   "execution_count": 11,
   "id": "670b5166",
   "metadata": {
    "scrolled": true
   },
   "outputs": [
    {
     "data": {
      "image/png": "[encoded data removed]",
      "text/plain": [
       "<Figure size 432x288 with 1 Axes>"
      ]
     },
     "metadata": {
      "needs_background": "light"
     },
     "output_type": "display_data"
    }
   ],
   "source": [
    "import matplotlib.pyplot as plt\n",
    "\n",
    "plt.plot(n_trees_list, precision, marker='o')\n",
    "plt.xlabel('Number of Trees')\n",
    "plt.ylabel('F1_score')\n",
    "plt.title('F1_score vs Number of Trees')\n",
    "plt.grid(True)\n",
    "plt.show()"
   ]
  },
  {
   "cell_type": "code",
   "execution_count": null,
   "id": "42b070c7",
   "metadata": {},
   "outputs": [],
   "source": []
  },
  {
   "cell_type": "code",
   "execution_count": null,
   "id": "33c093a5",
   "metadata": {},
   "outputs": [],
   "source": []
  }
 ],
 "metadata": {
  "kernelspec": {
   "display_name": "Python 3 (ipykernel)",
   "language": "python",
   "name": "python3"
  },
  "language_info": {
   "codemirror_mode": {
    "name": "ipython",
    "version": 3
   },
   "file_extension": ".py",
   "mimetype": "text/x-python",
   "name": "python",
   "nbconvert_exporter": "python",
   "pygments_lexer": "ipython3",
   "version": "3.9.7"
  }
 },
 "nbformat": 4,
 "nbformat_minor": 5
}
