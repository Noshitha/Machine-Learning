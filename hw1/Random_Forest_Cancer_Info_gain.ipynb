{
 "cells": [
  {
   "cell_type": "code",
   "execution_count": 1,
   "id": "beef5a70",
   "metadata": {
    "scrolled": true
   },
   "outputs": [
    {
     "name": "stdout",
     "output_type": "stream",
     "text": [
      "num_trees:  1\n",
      "Accuracies: 0.9057971014492754\n",
      "Precisions: 0.9014908677438755\n",
      "Recalls: 0.8918340303024394\n",
      "F1-scores: 0.8930110762071587\n",
      "num_trees:  5\n",
      "Accuracies: 0.9507246376811593\n",
      "Precisions: 0.9453947768728043\n",
      "Recalls: 0.9432055364719467\n",
      "F1-scores: 0.9438486395580892\n",
      "num_trees:  10\n",
      "Accuracies: 0.9565217391304348\n",
      "Precisions: 0.9493075162996293\n",
      "Recalls: 0.9505819646913443\n",
      "F1-scores: 0.9495454845317586\n",
      "num_trees:  20\n",
      "Accuracies: 0.9565217391304348\n",
      "Precisions: 0.9510272206373171\n",
      "Recalls: 0.9493544484089715\n",
      "F1-scores: 0.9495336234247265\n",
      "num_trees:  30\n",
      "Accuracies: 0.9579710144927537\n",
      "Precisions: 0.9485389832804675\n",
      "Recalls: 0.9543511357532817\n",
      "F1-scores: 0.9506672318814531\n",
      "num_trees:  40\n",
      "Accuracies: 0.9608695652173914\n",
      "Precisions: 0.9539398108213655\n",
      "Recalls: 0.957753702158835\n",
      "F1-scores: 0.9553742096276855\n",
      "num_trees:  50\n",
      "Accuracies: 0.9579710144927537\n",
      "Precisions: 0.9523169524952666\n",
      "Recalls: 0.9538559236328978\n",
      "F1-scores: 0.9520972052305421\n"
     ]
    }
   ],
   "source": [
    "import numpy as np\n",
    "import pandas as pd\n",
    "from collections import Counter\n",
    "from sklearn.model_selection import train_test_split\n",
    "from sklearn.utils import shuffle\n",
    "from sklearn.metrics import accuracy_score, precision_score, recall_score, f1_score\n",
    "\n",
    "def entropy(labels):\n",
    "    unique_labels, counts = np.unique(labels, return_counts=True)\n",
    "    probabilities = counts / len(labels)\n",
    "    entropy_value = -np.sum(probabilities * np.log2(probabilities))\n",
    "    return entropy_value\n",
    "\n",
    "def information_gain(y, x):\n",
    "    parent_entropy = entropy(y)\n",
    "    info_a = 0\n",
    "    for value in set(x):\n",
    "        partition_indices = x[x == value].index\n",
    "        partition_entropy = entropy(y[partition_indices])\n",
    "        info_a += len(partition_indices) / len(x) * partition_entropy\n",
    "    gain_a = parent_entropy - info_a\n",
    "    return gain_a\n",
    "\n",
    "def decision_tree(X_train, y_train, max_depth, current_depth=0):\n",
    "    if len(set(y_train)) == 1 or current_depth == max_depth or len(X_train.columns) == 0:\n",
    "        class_counts = Counter(y_train)\n",
    "        if class_counts:\n",
    "            majority_class = class_counts.most_common(1)[0][0]\n",
    "            return {\"class_label\": majority_class}\n",
    "        else:\n",
    "            # If class_counts is empty, return None or handle it appropriately\n",
    "            return None\n",
    "    \n",
    "    gains = {}\n",
    "    for attr in X_train.columns:\n",
    "        if X_train[attr].dtype == 'object':\n",
    "            gains[attr] = information_gain(y_train, X_train[attr])\n",
    "        else:\n",
    "            # For numerical attributes\n",
    "            attr_mean = X_train[attr].mean()\n",
    "            partition_indices_left = X_train[X_train[attr] <= attr_mean].index\n",
    "            partition_indices_right = X_train[X_train[attr] > attr_mean].index\n",
    "            partition_entropy_left = entropy(y_train[partition_indices_left])\n",
    "            partition_entropy_right = entropy(y_train[partition_indices_right])\n",
    "            weight_left = len(partition_indices_left) / len(X_train)\n",
    "            weight_right = len(partition_indices_right) / len(X_train)\n",
    "            info_a = weight_left * partition_entropy_left + weight_right * partition_entropy_right\n",
    "            gains[attr] = entropy(y_train) - info_a\n",
    "    \n",
    "    best_attr = max(gains, key=gains.get)\n",
    "    node = {\"attribute\": best_attr, \"leaf\": {}}\n",
    "    \n",
    "    if X_train[best_attr].dtype == 'object':\n",
    "        unique_values = X_train[best_attr].unique()\n",
    "        for value in unique_values:\n",
    "            partition_indices = X_train[X_train[best_attr] == value].index\n",
    "            node[\"leaf\"][value] = decision_tree(X_train.loc[partition_indices], y_train.loc[partition_indices], max_depth, current_depth + 1)\n",
    "    else:\n",
    "        attr_mean = X_train[best_attr].mean()\n",
    "        partition_indices_left = X_train[X_train[best_attr] <= attr_mean].index\n",
    "        partition_indices_right = X_train[X_train[best_attr] > attr_mean].index\n",
    "        node[\"split_value\"] = attr_mean\n",
    "        node[\"left\"] = decision_tree(X_train.loc[partition_indices_left], y_train.loc[partition_indices_left], max_depth, current_depth + 1)\n",
    "        node[\"right\"] = decision_tree(X_train.loc[partition_indices_right], y_train.loc[partition_indices_right], max_depth, current_depth + 1)\n",
    "    \n",
    "    return node\n",
    "\n",
    "def classify_random_forest(trees, subsampled_attributes, X_test):\n",
    "    class_labels = []\n",
    "    for _, test_row in X_test.iterrows():  # Iterate over the rows\n",
    "        tree_votes = []\n",
    "        for tree, sub_attributes in zip(trees, subsampled_attributes):\n",
    "            test_features = test_row[sub_attributes]  # Use sub_attributes directly\n",
    "            predicted_label = classify(tree, test_features)\n",
    "            tree_votes.append(predicted_label[0])  # Append predicted label\n",
    "        class_labels.append(max(set(tree_votes), key=tree_votes.count))  # Perform majority voting\n",
    "    return class_labels\n",
    "\n",
    "\n",
    "def classify(tree, features):\n",
    "    class_labels = []\n",
    "    if isinstance(features, pd.Series):  # Check if features is a Series\n",
    "        node = tree\n",
    "        while \"class_label\" not in node:\n",
    "            if features[node['attribute']] <= node['split_value']:\n",
    "                node = node['left']\n",
    "            else:\n",
    "                node = node['right']\n",
    "        class_labels.append(node['class_label'])\n",
    "    else:  # If features is a DataFrame\n",
    "        for _, feature in features.iterrows():\n",
    "            node = tree\n",
    "            while \"class_label\" not in node:\n",
    "                if feature[node['attribute']] <= node['split_value']:\n",
    "                    node = node['left']\n",
    "                else:\n",
    "                    node = node['right']\n",
    "            class_labels.append(node['class_label'])\n",
    "    return class_labels\n",
    "\n",
    "def bootstrap_sampling(X, y):\n",
    "    indices = np.random.choice(len(X), size=len(X), replace=True)\n",
    "    return X.iloc[indices], y.iloc[indices]\n",
    "\n",
    "def fit_random_forest(num_trees, max_depth, example_subsample_rate, attr_subsample_rate, X_train, y_train):\n",
    "    trees = []\n",
    "    subsampled_attributes = []\n",
    "\n",
    "    for i in range(num_trees):\n",
    "        # Bootstrap sampling to create a bootstrapped dataset\n",
    "        bootstrapped_X, bootstrapped_y = bootstrap_sampling(X_train, y_train)\n",
    "\n",
    "        # Subsample attributes\n",
    "        subsampled_attr_indexes = np.random.choice(range(X_train.shape[1]), int(X_train.shape[1] * attr_subsample_rate), replace=False)\n",
    "        subsampled_attributes.append(subsampled_attr_indexes.tolist())\n",
    "        subsampled_X = bootstrapped_X.iloc[:, subsampled_attr_indexes]\n",
    "\n",
    "        # Build decision tree using the bootstrapped and subsampled dataset\n",
    "        tree = decision_tree(subsampled_X, bootstrapped_y, max_depth)\n",
    "        trees.append(tree)\n",
    "\n",
    "    return trees, subsampled_attributes\n",
    "\n",
    "def confusion_matrix(y_true, y_pred):\n",
    "    classes = np.unique(np.concatenate([y_true, y_pred]))\n",
    "    n_classes = len(classes)\n",
    "    conf_matrix = np.zeros((n_classes, n_classes), dtype=int)\n",
    "\n",
    "    for i, true_label in enumerate(classes):\n",
    "        for j, pred_label in enumerate(classes):\n",
    "            conf_matrix[i, j] = np.sum((y_true == true_label) & (y_pred == pred_label))\n",
    "\n",
    "    return conf_matrix\n",
    "\n",
    "def calculate_metrics(conf_matrix):\n",
    "    TP = np.diag(conf_matrix)\n",
    "    FP = np.sum(conf_matrix, axis=0) - TP\n",
    "    FN = np.sum(conf_matrix, axis=1) - TP\n",
    "    TN = np.sum(conf_matrix) - (TP + FP + FN)\n",
    "\n",
    "    accuracy = np.sum(TP) / np.sum(conf_matrix)\n",
    "    \n",
    "    precision = np.where(TP + FP == 0, 0, TP / (TP + FP))\n",
    "    recall = np.where(TP + FN == 0, 0, TP / (TP + FN))\n",
    "    \n",
    "    # Handle division by zero or empty slices for F1-score\n",
    "    f1_score = np.zeros_like(precision)\n",
    "    non_zero_denominator = (precision + recall) != 0\n",
    "    f1_score[non_zero_denominator] = 2 * (precision[non_zero_denominator] * recall[non_zero_denominator]) / (precision[non_zero_denominator] + recall[non_zero_denominator])\n",
    "    \n",
    "    return accuracy, precision, recall, f1_score\n",
    "\n",
    "def stratified_cross_validation(X, y, n_folds, num_trees, max_depth, example_subsample_rate, attr_subsample_rate):\n",
    "    fold_size = len(X) // n_folds\n",
    "    accuracies = []\n",
    "    precisions = []\n",
    "    recalls = []\n",
    "    f1_scores = []\n",
    "    conf_matrices = []\n",
    "\n",
    "    for i in range(n_folds):\n",
    "        start = i * fold_size\n",
    "        end = (i + 1) * fold_size\n",
    "\n",
    "        X_train_fold = pd.concat([X[:start], X[end:]])\n",
    "        y_train_fold = pd.concat([y[:start], y[end:]])\n",
    "\n",
    "        X_validation_fold = X[start:end]\n",
    "        y_validation_fold = y[start:end]\n",
    "        \n",
    "        trees, subsampled_attributes = fit_random_forest(num_trees, max_depth, example_subsample_rate, attr_subsample_rate, X_train_fold, y_train_fold)\n",
    "        predictions = classify_random_forest(trees, subsampled_attributes, X_validation_fold)\n",
    "        \n",
    "        # Convert y_validation_fold to list\n",
    "        y_validation_fold_list = y_validation_fold.tolist()\n",
    "        \n",
    "        # Calculate metrics\n",
    "        conf_matrix = confusion_matrix(y_validation_fold_list, predictions)\n",
    "        acc, prec, rec, f1 = calculate_metrics(conf_matrix)\n",
    "        \n",
    "        accuracies.append(acc)\n",
    "        precisions.append(prec)\n",
    "        recalls.append(rec)\n",
    "        f1_scores.append(f1)\n",
    "        \n",
    "        conf_matrices.append(conf_matrix)\n",
    "\n",
    "    mean_accuracy = np.mean(accuracies)\n",
    "    mean_precision = np.mean([np.mean(precision, axis=0) for precision in precisions], axis=0)\n",
    "    mean_recall = np.mean([np.mean(recall, axis=0) for recall in recalls], axis=0)\n",
    "    mean_f1_score = np.nanmean([np.nanmean(f1_score, axis=0) for f1_score in f1_scores], axis=0)\n",
    "\n",
    "    return mean_accuracy, mean_precision, mean_recall, mean_f1_score\n",
    "\n",
    "if __name__ == \"__main__\":\n",
    "    # Read the dataset\n",
    "    df_cancer = pd.read_csv(\"/Users/noshitha/Downloads/hw3/datasets/hw3_cancer.csv\", delimiter=\"\\t\")\n",
    "\n",
    "    # Shuffle the dataset\n",
    "    df_cancer_shuffle = shuffle(df_cancer)\n",
    "\n",
    "    # Split the dataset into features and target variable\n",
    "    X = df_cancer_shuffle.iloc[:, :-1]\n",
    "    y = df_cancer_shuffle.iloc[:, -1]\n",
    "    \n",
    "    n_trees_list = [1, 5, 10, 20, 30, 40, 50]\n",
    "    #n_trees_list = [1]\n",
    "    n_folds = 10\n",
    "    max_depth = 3\n",
    "    example_subsample_rate = 0.5\n",
    "    attr_subsample_rate = 0.5\n",
    "    \n",
    "    accuracy  = []\n",
    "    precision = []\n",
    "    recall    = []\n",
    "    f1_score  = []\n",
    "    \n",
    "    for num_trees in n_trees_list:\n",
    "        print(\"num_trees: \",num_trees)\n",
    "        accuracies, precisions, recalls, f1_scores = stratified_cross_validation(X, y, n_folds, num_trees, max_depth, example_subsample_rate, attr_subsample_rate)\n",
    "        print(\"Accuracies:\", accuracies)\n",
    "        print(\"Precisions:\", precisions)\n",
    "        print(\"Recalls:\", recalls)\n",
    "        print(\"F1-scores:\", f1_scores)\n",
    "        accuracy.append(accuracies)\n",
    "        precision.append(precisions)\n",
    "        recall.append(recalls)\n",
    "        f1_score.append(f1_scores)"
   ]
  },
  {
   "cell_type": "markdown",
   "id": "a2de6a20",
   "metadata": {},
   "source": [
    "### Accuracy"
   ]
  },
  {
   "cell_type": "code",
   "execution_count": 2,
   "id": "e5d5c2f1",
   "metadata": {},
   "outputs": [
    {
     "data": {
      "image/png": "[encoded data removed]",
      "text/plain": [
       "<Figure size 432x288 with 1 Axes>"
      ]
     },
     "metadata": {
      "needs_background": "light"
     },
     "output_type": "display_data"
    }
   ],
   "source": [
    "import matplotlib.pyplot as plt\n",
    "\n",
    "plt.plot(n_trees_list, accuracy, marker='o')\n",
    "plt.xlabel('Number of Trees')\n",
    "plt.ylabel('Accuracy')\n",
    "plt.title('Accuracy vs Number of Trees - Cancer Dataset')\n",
    "plt.grid(True)\n",
    "plt.show()"
   ]
  },
  {
   "cell_type": "markdown",
   "id": "4209f209",
   "metadata": {},
   "source": [
    "### Precision"
   ]
  },
  {
   "cell_type": "code",
   "execution_count": 3,
   "id": "217bf335",
   "metadata": {},
   "outputs": [
    {
     "data": {
      "image/png": "[encoded data removed]",
      "text/plain": [
       "<Figure size 432x288 with 1 Axes>"
      ]
     },
     "metadata": {
      "needs_background": "light"
     },
     "output_type": "display_data"
    }
   ],
   "source": [
    "import matplotlib.pyplot as plt\n",
    "\n",
    "plt.plot(n_trees_list, precision, marker='o')\n",
    "plt.xlabel('Number of Trees')\n",
    "plt.ylabel('Precision')\n",
    "plt.title('Precision vs Number of Trees - Cancer Dataset')\n",
    "plt.grid(True)\n",
    "plt.show()"
   ]
  },
  {
   "cell_type": "markdown",
   "id": "27d38d0b",
   "metadata": {},
   "source": [
    "### Recall"
   ]
  },
  {
   "cell_type": "code",
   "execution_count": 4,
   "id": "5d449f3b",
   "metadata": {},
   "outputs": [
    {
     "data": {
      "image/png": "[encoded data removed]",
      "text/plain": [
       "<Figure size 432x288 with 1 Axes>"
      ]
     },
     "metadata": {
      "needs_background": "light"
     },
     "output_type": "display_data"
    }
   ],
   "source": [
    "import matplotlib.pyplot as plt\n",
    "\n",
    "plt.plot(n_trees_list, precision, marker='o')\n",
    "plt.xlabel('Number of Trees')\n",
    "plt.ylabel('Recall')\n",
    "plt.title('Recall vs Number of Trees - Cancer Dataset')\n",
    "plt.grid(True)\n",
    "plt.show()"
   ]
  },
  {
   "cell_type": "markdown",
   "id": "4af62639",
   "metadata": {},
   "source": [
    "### F1_score"
   ]
  },
  {
   "cell_type": "code",
   "execution_count": 5,
   "id": "d2ea0c29",
   "metadata": {},
   "outputs": [
    {
     "data": {
      "image/png": "[encoded data removed]",
      "text/plain": [
       "<Figure size 432x288 with 1 Axes>"
      ]
     },
     "metadata": {
      "needs_background": "light"
     },
     "output_type": "display_data"
    }
   ],
   "source": [
    "import matplotlib.pyplot as plt\n",
    "\n",
    "plt.plot(n_trees_list, precision, marker='o')\n",
    "plt.xlabel('Number of Trees')\n",
    "plt.ylabel('F1_score')\n",
    "plt.title('F1_score vs Number of Trees - Cancer Dataset')\n",
    "plt.grid(True)\n",
    "plt.show()"
   ]
  },
  {
   "cell_type": "code",
   "execution_count": null,
   "id": "4caf8656",
   "metadata": {},
   "outputs": [],
   "source": []
  }
 ],
 "metadata": {
  "kernelspec": {
   "display_name": "Python 3 (ipykernel)",
   "language": "python",
   "name": "python3"
  },
  "language_info": {
   "codemirror_mode": {
    "name": "ipython",
    "version": 3
   },
   "file_extension": ".py",
   "mimetype": "text/x-python",
   "name": "python",
   "nbconvert_exporter": "python",
   "pygments_lexer": "ipython3",
   "version": "3.9.7"
  }
 },
 "nbformat": 4,
 "nbformat_minor": 5
}
